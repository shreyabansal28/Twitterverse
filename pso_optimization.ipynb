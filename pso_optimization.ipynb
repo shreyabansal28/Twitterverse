{
 "cells": [
  {
   "cell_type": "code",
   "execution_count": 1,
   "metadata": {},
   "outputs": [],
   "source": [
    "import io\n",
    "\n",
    "import pandas as pd\n",
    "import matplotlib.pyplot as plt\n",
    "import numpy as np\n",
    "data = pd.read_csv('Twitter_Data.csv')"
   ]
  },
  {
   "cell_type": "code",
   "execution_count": 2,
   "metadata": {},
   "outputs": [],
   "source": [
    "data.drop(data[data['clean_text'].isna()].index, inplace=True)\n",
    "data.drop(data[data['category'].isna()].index, inplace=True)\n",
    "\n",
    "sentiment_map={-1:'negative',1:'positive',0:'neutral'}\n",
    "data.insert(2,'sentiment',[sentiment_map[s] for s in data.category],True)"
   ]
  },
  {
   "cell_type": "code",
   "execution_count": 3,
   "metadata": {},
   "outputs": [],
   "source": [
    "reviews = np.array(data['clean_text'])[:]\n",
    "labels = np.array(data['sentiment'])[:]"
   ]
  },
  {
   "cell_type": "code",
   "execution_count": 4,
   "metadata": {},
   "outputs": [
    {
     "name": "stderr",
     "output_type": "stream",
     "text": [
      "c:\\Users\\HP\\AppData\\Local\\Programs\\Python\\Python310\\lib\\site-packages\\preprocess_kgptalkie\\utils.py:170: MarkupResemblesLocatorWarning: The input looks more like a filename than markup. You may want to open this file and pass the filehandle into Beautiful Soup.\n",
      "  return BeautifulSoup(x, 'lxml').get_text().strip()\n"
     ]
    }
   ],
   "source": [
    "# Data Cleaning\n",
    "# lowercase, remove url, html, punctuations, retweet\n",
    "import numpy.linalg._umath_linalg\n",
    "import preprocess_kgptalkie as ps\n",
    "\n",
    "data['clean_text'] = data['clean_text'].apply(lambda x: x.lower())\n",
    "data['clean_text'] = data['clean_text'].apply(lambda x: ps.remove_urls(x))\n",
    "data['clean_text'] = data['clean_text'].apply(lambda x: ps.remove_html_tags(x))\n",
    "data['clean_text'] = data['clean_text'].apply(lambda x: ps.remove_special_chars(x))\n",
    "data['clean_text'] = data['clean_text'].apply(lambda x: ps.remove_rt(x))\n",
    "\n",
    "import re\n",
    "from string import punctuation\n",
    "\n",
    "def preProcessor(Tweet):\n",
    "   \n",
    "    text = re.sub(r'(http|ftp|https)://([\\w_-]+(?:(?:\\.[\\w_-]+)+))([\\w\\-\\.,@?^=%&:/\\+#]*[\\w\\-\\@?^=%&/\\+#])?', ' ', Tweet)\n",
    "\n",
    "    text = re.sub(r'<.*?>', ' ', text)\n",
    "\n",
    "    text = re.sub(r'[^a-zA-Z\\s]', '', text)\n",
    "  \n",
    "    text = re.sub(r'\\bRT\\b', '', text)\n",
    " \n",
    "    text = text.lower()\n",
    "    \n",
    "    return text\n",
    "\n",
    "data['clean_text'] = data['clean_text'].apply(preProcessor)\n"
   ]
  },
  {
   "cell_type": "code",
   "execution_count": 5,
   "metadata": {},
   "outputs": [],
   "source": [
    "from sklearn.model_selection import train_test_split\n",
    "# x_train, x_test, y_train, y_test = train_test_split(text_counts,data['sentiment'],test_size=0.3)\n",
    "x_train, x_test, y_train, y_test = train_test_split(data['clean_text'],data['sentiment'],test_size=0.3)"
   ]
  },
  {
   "cell_type": "code",
   "execution_count": 14,
   "metadata": {},
   "outputs": [
    {
     "name": "stdout",
     "output_type": "stream",
     "text": [
      "Optimized Decision Tree Accuracy: 91.2\n"
     ]
    }
   ],
   "source": [
    "import numpy as np\n",
    "from sklearn.tree import DecisionTreeClassifier\n",
    "from sklearn.feature_extraction.text import TfidfVectorizer\n",
    "from sklearn.pipeline import Pipeline\n",
    "from sklearn import metrics\n",
    "from nltk.corpus import stopwords\n",
    "from pyswarm import pso \n",
    "\n",
    "stop_words = stopwords.words('english')\n",
    "\n",
    "def objective_function(params):\n",
    "    max_depth, min_samples_split = params\n",
    "    max_depth = max(1, int(round(max_depth)))\n",
    "    min_samples_split = max(1, int(round( min_samples_split)))\n",
    "    pipeline = Pipeline([\n",
    "        ('tfidf', TfidfVectorizer(max_features=5000, stop_words=stop_words)),\n",
    "        ('clf', DecisionTreeClassifier(max_depth=max_depth, min_samples_split=min_samples_split))\n",
    "    ])\n",
    "    pipeline.fit(x_train, y_train)\n",
    "    pred = pipeline.predict(x_test)\n",
    "    accuracy = metrics.accuracy_score(y_test, pred)\n",
    "    return -accuracy  \n",
    "\n",
    "\n",
    "lower_bound = [1, 2] \n",
    "upper_bound = [10, 3]  \n",
    "\n",
    "best_params, _ = pso(objective_function, lower_bound, upper_bound)\n",
    "\n",
    "max_depth, min_samples_split = best_params\n",
    "max_depth = max(1, int(round(max_depth)))\n",
    "pipeline = Pipeline([\n",
    "    ('tfidf', TfidfVectorizer(max_features=5000, stop_words=stop_words)),\n",
    "    ('clf', DecisionTreeClassifier(max_depth=max_depth, min_samples_split=min_samples_split))\n",
    "])\n",
    "pipeline.fit(x_train, y_train)\n",
    "pred = pipeline.predict(x_test)\n",
    "accuracy = metrics.accuracy_score(y_test, pred)\n",
    "print(\"Optimized Decision Tree Accuracy:\", accuracy)\n",
    "\n",
    "   \n"
   ]
  }
 ],
 "metadata": {
  "kernelspec": {
   "display_name": "Python 3",
   "language": "python",
   "name": "python3"
  },
  "language_info": {
   "codemirror_mode": {
    "name": "ipython",
    "version": 3
   },
   "file_extension": ".py",
   "mimetype": "text/x-python",
   "name": "python",
   "nbconvert_exporter": "python",
   "pygments_lexer": "ipython3",
   "version": "3.10.1"
  }
 },
 "nbformat": 4,
 "nbformat_minor": 2
}
